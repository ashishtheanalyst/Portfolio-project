{
 "cells": [
  {
   "cell_type": "code",
   "execution_count": 4,
   "id": "f1b6d62b",
   "metadata": {},
   "outputs": [
    {
     "name": "stdout",
     "output_type": "stream",
     "text": [
      "\n",
      "  There is a binary version available but the source version is later:\n",
      "             binary source needs_compilation\n",
      "summarytools  0.9.9  1.0.0             FALSE\n",
      "\n"
     ]
    },
    {
     "name": "stderr",
     "output_type": "stream",
     "text": [
      "installing the source package 'summarytools'\n",
      "\n"
     ]
    },
    {
     "name": "stdout",
     "output_type": "stream",
     "text": [
      "\n",
      "  There is a binary version available but the source version is later:\n",
      "      binary source needs_compilation\n",
      "dplyr  1.0.6  1.0.7              TRUE\n",
      "\n",
      "  Binaries will be installed\n"
     ]
    },
    {
     "name": "stderr",
     "output_type": "stream",
     "text": [
      "Warning message:\n",
      "\"package 'dplyr' is in use and will not be installed\""
     ]
    }
   ],
   "source": [
    "# We are going to use R programming lanuage to carry out logistic regression from a dataset.\n",
    "\n",
    "# We are going to use data from COVID IVR survey.The survey was carried out among girls and women aged 18 to 24 years \n",
    "# from all over Nepal via mobile survey between 10th March to 24th April 2021. \n",
    "# The objective of the survey was to assess SRHR service disruption due to COVID-19 lockdown and restrictions\n",
    "# The survey enrolled 1314 participants.\n",
    "\n",
    "# The assignment of this project is to identify demographic factors associated with SRHR service disruption during COVID-19\n",
    "# lockdown.\n",
    "# The main dependent variable is binary with 1 \"Yes\" or 0 \"No\" response.\n",
    "\n",
    "# First step is install and load necessary packages\n",
    "\n",
    "install.packages(\"summarytools\")\n",
    "install.packages(\"dplyr\")\n",
    "\n",
    "library(dplyr)\n",
    "library(summarytools)"
   ]
  },
  {
   "cell_type": "code",
   "execution_count": 5,
   "id": "4fb2f309",
   "metadata": {},
   "outputs": [],
   "source": [
    "# Then we get the data\n",
    "\n",
    "df<-read.csv(\"C:/Users/Ashis/OneDrive - Plan International/Projects and Research/Stand alone research and evaluation/COVID 19 Survey/Manuscript/Submission/Rebuttal/covidresearch.csv\",stringsAsFactors=TRUE) "
   ]
  },
  {
   "cell_type": "code",
   "execution_count": 6,
   "id": "3d3c428c",
   "metadata": {},
   "outputs": [
    {
     "data": {
      "text/html": [
       "<table>\n",
       "<thead><tr><th scope=col>CompletedInteractionCount</th><th scope=col>welcomeMessage</th><th scope=col>genderMultipleChoiceQuestion</th><th scope=col>thankyouMessage</th><th scope=col>ageMultipleChoiceQuestion</th><th scope=col>definitionsMessage</th><th scope=col>violencequalifierMultipleChoi</th><th scope=col>earlymarriageMultipleChoiceQ</th><th scope=col>municipalityMultipleChoiceQu</th><th scope=col>educationstatusMultipleChoice</th><th scope=col>...</th><th scope=col>ethnicity</th><th scope=col>residence</th><th scope=col>education</th><th scope=col>pwd</th><th scope=col>maritalstatus</th><th scope=col>maritalstatusbi</th><th scope=col>educationdisruptionbi</th><th scope=col>violencebefore</th><th scope=col>ethnicity2</th><th scope=col>education2</th></tr></thead>\n",
       "<tbody>\n",
       "\t<tr><td>27                                           </td><td>100% (Voice)                                 </td><td>Female                                       </td><td>100% (Voice)                                 </td><td>between 22-24                                </td><td>100% (Voice)                                 </td><td>Never experienced physical or sexual violence</td><td>No                                           </td><td>Rural                                        </td><td>Some or completed secondary                  </td><td>...                                          </td><td>7                                            </td><td>1                                            </td><td>4                                            </td><td>1                                            </td><td>3                                            </td><td>0                                            </td><td>NA                                           </td><td>0                                            </td><td>7                                            </td><td>2                                            </td></tr>\n",
       "\t<tr><td>22                                           </td><td>100% (Voice)                                 </td><td>Female                                       </td><td>                                             </td><td>between 18-21                                </td><td>100% (Voice)                                 </td><td>Never experienced physical or sexual violence</td><td>No                                           </td><td>Urban                                        </td><td>Postgraduate and above                       </td><td>...                                          </td><td>1                                            </td><td>2                                            </td><td>2                                            </td><td>1                                            </td><td>2                                            </td><td>1                                            </td><td>NA                                           </td><td>0                                            </td><td>1                                            </td><td>2                                            </td></tr>\n",
       "\t<tr><td>31                                           </td><td>100% (Voice)                                 </td><td>Female                                       </td><td>100% (Voice)                                 </td><td>between 18-21                                </td><td>100% (Voice)                                 </td><td>Never experienced physical or sexual violence</td><td>No                                           </td><td>Rural                                        </td><td>No formal education                          </td><td>...                                          </td><td>1                                            </td><td>1                                            </td><td>1                                            </td><td>1                                            </td><td>3                                            </td><td>0                                            </td><td> 0                                           </td><td>0                                            </td><td>1                                            </td><td>1                                            </td></tr>\n",
       "\t<tr><td>27                                           </td><td>100% (Voice)                                 </td><td>Female                                       </td><td>100% (Voice)                                 </td><td>between 22-24                                </td><td>100% (Voice)                                 </td><td>Never experienced physical or sexual violence</td><td>No                                           </td><td>Rural                                        </td><td>Undergraduate                                </td><td>...                                          </td><td>1                                            </td><td>1                                            </td><td>5                                            </td><td>1                                            </td><td>3                                            </td><td>0                                            </td><td>NA                                           </td><td>0                                            </td><td>1                                            </td><td>2                                            </td></tr>\n",
       "\t<tr><td>29                                           </td><td>100% (Voice)                                 </td><td>Female                                       </td><td>100% (Voice)                                 </td><td>between 18-21                                </td><td>100% (Voice)                                 </td><td>Never experienced physical or sexual violence</td><td>No                                           </td><td>Urban                                        </td><td>Undergraduate                                </td><td>...                                          </td><td>6                                            </td><td>2                                            </td><td>5                                            </td><td>1                                            </td><td>3                                            </td><td>0                                            </td><td> 0                                           </td><td>0                                            </td><td>7                                            </td><td>2                                            </td></tr>\n",
       "\t<tr><td>27                                           </td><td>100% (Voice)                                 </td><td>Female                                       </td><td>100% (Voice)                                 </td><td>between 18-21                                </td><td>100% (Voice)                                 </td><td>Never experienced physical or sexual violence</td><td>No                                           </td><td>Urban                                        </td><td>Undergraduate                                </td><td>...                                          </td><td>2                                            </td><td>2                                            </td><td>5                                            </td><td>1                                            </td><td>3                                            </td><td>0                                            </td><td>NA                                           </td><td>0                                            </td><td>2                                            </td><td>2                                            </td></tr>\n",
       "</tbody>\n",
       "</table>\n"
      ],
      "text/latex": [
       "\\begin{tabular}{r|llllllllllllllllllllllllllllllllllllllllllllllllllllllllllllllllllllllllllllllllllllllllllllllllllllllllllllll}\n",
       " CompletedInteractionCount & welcomeMessage & genderMultipleChoiceQuestion & thankyouMessage & ageMultipleChoiceQuestion & definitionsMessage & violencequalifierMultipleChoi & earlymarriageMultipleChoiceQ & municipalityMultipleChoiceQu & educationstatusMultipleChoice & ... & ethnicity & residence & education & pwd & maritalstatus & maritalstatusbi & educationdisruptionbi & violencebefore & ethnicity2 & education2\\\\\n",
       "\\hline\n",
       "\t 27                                            & 100\\% (Voice)                                & Female                                        & 100\\% (Voice)                                & between 22-24                                 & 100\\% (Voice)                                & Never experienced physical or sexual violence & No                                            & Rural                                         & Some or completed secondary                   & ...                                           & 7                                             & 1                                             & 4                                             & 1                                             & 3                                             & 0                                             & NA                                            & 0                                             & 7                                             & 2                                            \\\\\n",
       "\t 22                                            & 100\\% (Voice)                                & Female                                        &                                               & between 18-21                                 & 100\\% (Voice)                                & Never experienced physical or sexual violence & No                                            & Urban                                         & Postgraduate and above                        & ...                                           & 1                                             & 2                                             & 2                                             & 1                                             & 2                                             & 1                                             & NA                                            & 0                                             & 1                                             & 2                                            \\\\\n",
       "\t 31                                            & 100\\% (Voice)                                & Female                                        & 100\\% (Voice)                                & between 18-21                                 & 100\\% (Voice)                                & Never experienced physical or sexual violence & No                                            & Rural                                         & No formal education                           & ...                                           & 1                                             & 1                                             & 1                                             & 1                                             & 3                                             & 0                                             &  0                                            & 0                                             & 1                                             & 1                                            \\\\\n",
       "\t 27                                            & 100\\% (Voice)                                & Female                                        & 100\\% (Voice)                                & between 22-24                                 & 100\\% (Voice)                                & Never experienced physical or sexual violence & No                                            & Rural                                         & Undergraduate                                 & ...                                           & 1                                             & 1                                             & 5                                             & 1                                             & 3                                             & 0                                             & NA                                            & 0                                             & 1                                             & 2                                            \\\\\n",
       "\t 29                                            & 100\\% (Voice)                                & Female                                        & 100\\% (Voice)                                & between 18-21                                 & 100\\% (Voice)                                & Never experienced physical or sexual violence & No                                            & Urban                                         & Undergraduate                                 & ...                                           & 6                                             & 2                                             & 5                                             & 1                                             & 3                                             & 0                                             &  0                                            & 0                                             & 7                                             & 2                                            \\\\\n",
       "\t 27                                            & 100\\% (Voice)                                & Female                                        & 100\\% (Voice)                                & between 18-21                                 & 100\\% (Voice)                                & Never experienced physical or sexual violence & No                                            & Urban                                         & Undergraduate                                 & ...                                           & 2                                             & 2                                             & 5                                             & 1                                             & 3                                             & 0                                             & NA                                            & 0                                             & 2                                             & 2                                            \\\\\n",
       "\\end{tabular}\n"
      ],
      "text/markdown": [
       "\n",
       "| CompletedInteractionCount | welcomeMessage | genderMultipleChoiceQuestion | thankyouMessage | ageMultipleChoiceQuestion | definitionsMessage | violencequalifierMultipleChoi | earlymarriageMultipleChoiceQ | municipalityMultipleChoiceQu | educationstatusMultipleChoice | ... | ethnicity | residence | education | pwd | maritalstatus | maritalstatusbi | educationdisruptionbi | violencebefore | ethnicity2 | education2 |\n",
       "|---|---|---|---|---|---|---|---|---|---|---|---|---|---|---|---|---|---|---|---|---|\n",
       "| 27                                            | 100% (Voice)                                  | Female                                        | 100% (Voice)                                  | between 22-24                                 | 100% (Voice)                                  | Never experienced physical or sexual violence | No                                            | Rural                                         | Some or completed secondary                   | ...                                           | 7                                             | 1                                             | 4                                             | 1                                             | 3                                             | 0                                             | NA                                            | 0                                             | 7                                             | 2                                             |\n",
       "| 22                                            | 100% (Voice)                                  | Female                                        |                                               | between 18-21                                 | 100% (Voice)                                  | Never experienced physical or sexual violence | No                                            | Urban                                         | Postgraduate and above                        | ...                                           | 1                                             | 2                                             | 2                                             | 1                                             | 2                                             | 1                                             | NA                                            | 0                                             | 1                                             | 2                                             |\n",
       "| 31                                            | 100% (Voice)                                  | Female                                        | 100% (Voice)                                  | between 18-21                                 | 100% (Voice)                                  | Never experienced physical or sexual violence | No                                            | Rural                                         | No formal education                           | ...                                           | 1                                             | 1                                             | 1                                             | 1                                             | 3                                             | 0                                             |  0                                            | 0                                             | 1                                             | 1                                             |\n",
       "| 27                                            | 100% (Voice)                                  | Female                                        | 100% (Voice)                                  | between 22-24                                 | 100% (Voice)                                  | Never experienced physical or sexual violence | No                                            | Rural                                         | Undergraduate                                 | ...                                           | 1                                             | 1                                             | 5                                             | 1                                             | 3                                             | 0                                             | NA                                            | 0                                             | 1                                             | 2                                             |\n",
       "| 29                                            | 100% (Voice)                                  | Female                                        | 100% (Voice)                                  | between 18-21                                 | 100% (Voice)                                  | Never experienced physical or sexual violence | No                                            | Urban                                         | Undergraduate                                 | ...                                           | 6                                             | 2                                             | 5                                             | 1                                             | 3                                             | 0                                             |  0                                            | 0                                             | 7                                             | 2                                             |\n",
       "| 27                                            | 100% (Voice)                                  | Female                                        | 100% (Voice)                                  | between 18-21                                 | 100% (Voice)                                  | Never experienced physical or sexual violence | No                                            | Urban                                         | Undergraduate                                 | ...                                           | 2                                             | 2                                             | 5                                             | 1                                             | 3                                             | 0                                             | NA                                            | 0                                             | 2                                             | 2                                             |\n",
       "\n"
      ],
      "text/plain": [
       "  CompletedInteractionCount welcomeMessage genderMultipleChoiceQuestion\n",
       "1 27                        100% (Voice)   Female                      \n",
       "2 22                        100% (Voice)   Female                      \n",
       "3 31                        100% (Voice)   Female                      \n",
       "4 27                        100% (Voice)   Female                      \n",
       "5 29                        100% (Voice)   Female                      \n",
       "6 27                        100% (Voice)   Female                      \n",
       "  thankyouMessage ageMultipleChoiceQuestion definitionsMessage\n",
       "1 100% (Voice)    between 22-24             100% (Voice)      \n",
       "2                 between 18-21             100% (Voice)      \n",
       "3 100% (Voice)    between 18-21             100% (Voice)      \n",
       "4 100% (Voice)    between 22-24             100% (Voice)      \n",
       "5 100% (Voice)    between 18-21             100% (Voice)      \n",
       "6 100% (Voice)    between 18-21             100% (Voice)      \n",
       "  violencequalifierMultipleChoi                 earlymarriageMultipleChoiceQ\n",
       "1 Never experienced physical or sexual violence No                          \n",
       "2 Never experienced physical or sexual violence No                          \n",
       "3 Never experienced physical or sexual violence No                          \n",
       "4 Never experienced physical or sexual violence No                          \n",
       "5 Never experienced physical or sexual violence No                          \n",
       "6 Never experienced physical or sexual violence No                          \n",
       "  municipalityMultipleChoiceQu educationstatusMultipleChoice ... ethnicity\n",
       "1 Rural                        Some or completed secondary   ... 7        \n",
       "2 Urban                        Postgraduate and above        ... 1        \n",
       "3 Rural                        No formal education           ... 1        \n",
       "4 Rural                        Undergraduate                 ... 1        \n",
       "5 Urban                        Undergraduate                 ... 6        \n",
       "6 Urban                        Undergraduate                 ... 2        \n",
       "  residence education pwd maritalstatus maritalstatusbi educationdisruptionbi\n",
       "1 1         4         1   3             0               NA                   \n",
       "2 2         2         1   2             1               NA                   \n",
       "3 1         1         1   3             0                0                   \n",
       "4 1         5         1   3             0               NA                   \n",
       "5 2         5         1   3             0                0                   \n",
       "6 2         5         1   3             0               NA                   \n",
       "  violencebefore ethnicity2 education2\n",
       "1 0              7          2         \n",
       "2 0              1          2         \n",
       "3 0              1          1         \n",
       "4 0              1          2         \n",
       "5 0              7          2         \n",
       "6 0              2          2         "
      ]
     },
     "metadata": {},
     "output_type": "display_data"
    }
   ],
   "source": [
    "# Let us get the sense of the data. The command below only shows few top observations.\n",
    "\n",
    "head(df)"
   ]
  },
  {
   "cell_type": "code",
   "execution_count": 8,
   "id": "fb106c76",
   "metadata": {},
   "outputs": [
    {
     "data": {
      "text/html": [
       "<table>\n",
       "<thead><tr><th></th><th scope=col>Freq</th><th scope=col>% Valid</th><th scope=col>% Valid Cum.</th><th scope=col>% Total</th><th scope=col>% Total Cum.</th></tr></thead>\n",
       "<tbody>\n",
       "\t<tr><th scope=row>0</th><td> 938     </td><td> 71.38508</td><td> 71.38508</td><td> 71.38508</td><td> 71.38508</td></tr>\n",
       "\t<tr><th scope=row>1</th><td> 376     </td><td> 28.61492</td><td>100.00000</td><td> 28.61492</td><td>100.00000</td></tr>\n",
       "\t<tr><th scope=row>&lt;NA&gt;</th><td>   0     </td><td>       NA</td><td>       NA</td><td>  0.00000</td><td>100.00000</td></tr>\n",
       "\t<tr><th scope=row>Total</th><td>1314     </td><td>100.00000</td><td>100.00000</td><td>100.00000</td><td>100.00000</td></tr>\n",
       "</tbody>\n",
       "</table>\n"
      ],
      "text/latex": [
       "\\begin{tabular}{r|lllll}\n",
       "  & Freq & \\% Valid & \\% Valid Cum. & \\% Total & \\% Total Cum.\\\\\n",
       "\\hline\n",
       "\t0 &  938      &  71.38508 &  71.38508 &  71.38508 &  71.38508\\\\\n",
       "\t1 &  376      &  28.61492 & 100.00000 &  28.61492 & 100.00000\\\\\n",
       "\t<NA> &    0      &        NA &        NA &   0.00000 & 100.00000\\\\\n",
       "\tTotal & 1314      & 100.00000 & 100.00000 & 100.00000 & 100.00000\\\\\n",
       "\\end{tabular}\n"
      ],
      "text/markdown": [
       "\n",
       "| <!--/--> | Freq | % Valid | % Valid Cum. | % Total | % Total Cum. |\n",
       "|---|---|---|---|---|---|\n",
       "| 0 |  938      |  71.38508 |  71.38508 |  71.38508 |  71.38508 |\n",
       "| 1 |  376      |  28.61492 | 100.00000 |  28.61492 | 100.00000 |\n",
       "| <NA> |    0      |        NA |        NA |   0.00000 | 100.00000 |\n",
       "| Total | 1314      | 100.00000 | 100.00000 | 100.00000 | 100.00000 |\n",
       "\n"
      ],
      "text/plain": [
       "      Freq % Valid   % Valid Cum. % Total   % Total Cum.\n",
       "0      938  71.38508  71.38508     71.38508  71.38508   \n",
       "1      376  28.61492 100.00000     28.61492 100.00000   \n",
       "<NA>     0        NA        NA      0.00000 100.00000   \n",
       "Total 1314 100.00000 100.00000    100.00000 100.00000   "
      ]
     },
     "metadata": {},
     "output_type": "display_data"
    }
   ],
   "source": [
    "#Let us check out the outcome variable i.e. SRHR service disruption denoted by field name \"srhraccessdisrupt\"\n",
    "\n",
    "summarytools::freq(df$srhraccessdisrupt)"
   ]
  },
  {
   "cell_type": "code",
   "execution_count": 9,
   "id": "5db483a4",
   "metadata": {},
   "outputs": [],
   "source": [
    "# We dont seem to have any labels for the a=categories in these variable. Let us add them real quick.\n",
    "\n",
    "df$srhraccessdisrupt<-factor(df$srhraccessdisrupt,\n",
    "                           levels=c(1,0),\n",
    "                           labels = c(\"Yes\",\"No\"))"
   ]
  },
  {
   "cell_type": "code",
   "execution_count": 10,
   "id": "d38052b3",
   "metadata": {},
   "outputs": [
    {
     "data": {
      "text/html": [
       "<table>\n",
       "<thead><tr><th></th><th scope=col>Freq</th><th scope=col>% Valid</th><th scope=col>% Valid Cum.</th><th scope=col>% Total</th><th scope=col>% Total Cum.</th></tr></thead>\n",
       "<tbody>\n",
       "\t<tr><th scope=row>Yes</th><td> 376     </td><td> 28.61492</td><td> 28.61492</td><td> 28.61492</td><td> 28.61492</td></tr>\n",
       "\t<tr><th scope=row>No</th><td> 938     </td><td> 71.38508</td><td>100.00000</td><td> 71.38508</td><td>100.00000</td></tr>\n",
       "\t<tr><th scope=row>&lt;NA&gt;</th><td>   0     </td><td>       NA</td><td>       NA</td><td>  0.00000</td><td>100.00000</td></tr>\n",
       "\t<tr><th scope=row>Total</th><td>1314     </td><td>100.00000</td><td>100.00000</td><td>100.00000</td><td>100.00000</td></tr>\n",
       "</tbody>\n",
       "</table>\n"
      ],
      "text/latex": [
       "\\begin{tabular}{r|lllll}\n",
       "  & Freq & \\% Valid & \\% Valid Cum. & \\% Total & \\% Total Cum.\\\\\n",
       "\\hline\n",
       "\tYes &  376      &  28.61492 &  28.61492 &  28.61492 &  28.61492\\\\\n",
       "\tNo &  938      &  71.38508 & 100.00000 &  71.38508 & 100.00000\\\\\n",
       "\t<NA> &    0      &        NA &        NA &   0.00000 & 100.00000\\\\\n",
       "\tTotal & 1314      & 100.00000 & 100.00000 & 100.00000 & 100.00000\\\\\n",
       "\\end{tabular}\n"
      ],
      "text/markdown": [
       "\n",
       "| <!--/--> | Freq | % Valid | % Valid Cum. | % Total | % Total Cum. |\n",
       "|---|---|---|---|---|---|\n",
       "| Yes |  376      |  28.61492 |  28.61492 |  28.61492 |  28.61492 |\n",
       "| No |  938      |  71.38508 | 100.00000 |  71.38508 | 100.00000 |\n",
       "| <NA> |    0      |        NA |        NA |   0.00000 | 100.00000 |\n",
       "| Total | 1314      | 100.00000 | 100.00000 | 100.00000 | 100.00000 |\n",
       "\n"
      ],
      "text/plain": [
       "      Freq % Valid   % Valid Cum. % Total   % Total Cum.\n",
       "Yes    376  28.61492  28.61492     28.61492  28.61492   \n",
       "No     938  71.38508 100.00000     71.38508 100.00000   \n",
       "<NA>     0        NA        NA      0.00000 100.00000   \n",
       "Total 1314 100.00000 100.00000    100.00000 100.00000   "
      ]
     },
     "metadata": {},
     "output_type": "display_data"
    }
   ],
   "source": [
    "summarytools::freq(df$srhraccessdisrupt)"
   ]
  },
  {
   "cell_type": "code",
   "execution_count": 11,
   "id": "95919978",
   "metadata": {},
   "outputs": [],
   "source": [
    "# Let us add labels to all the predictor socio demographic variables as well. \n",
    "df$residence<-factor(df$residence,\n",
    "                     levels=c(1,2),\n",
    "                     labels=c(\"Urban\", \"Rural\"))"
   ]
  },
  {
   "cell_type": "code",
   "execution_count": 12,
   "id": "991d84fb",
   "metadata": {},
   "outputs": [],
   "source": [
    "df$ethnicity<-factor(df$ethnicity,\n",
    "                     levels=c(1,2,3,4,5,6,7),\n",
    "                     labels=c(\"Brahmin/Chhetri\",\"Janajati press\", \"Madhesi\", \"Newar\", \"Dalit\", \"Muslim\", \"Others\"))\n"
   ]
  },
  {
   "cell_type": "code",
   "execution_count": 13,
   "id": "c75587d8",
   "metadata": {},
   "outputs": [],
   "source": [
    "df$education<-factor(df$education,\n",
    "                     levels=c(1,2,3,4,5),\n",
    "                     labels=c(\"No formal education\", \"Some primary or completed primary\", \"Some primary or completed secondary\", \"Undergraduate\",\"Postgraduate and above\"))\n"
   ]
  },
  {
   "cell_type": "code",
   "execution_count": 14,
   "id": "0143fdf4",
   "metadata": {},
   "outputs": [],
   "source": [
    "# pwd -Person with disability\n",
    "\n",
    "df$pwd<-factor(df$pwd,\n",
    "               levels=c(1,2),\n",
    "               labels = c(\"Yes\",\"No\"))"
   ]
  },
  {
   "cell_type": "code",
   "execution_count": 15,
   "id": "2ff0b315",
   "metadata": {},
   "outputs": [],
   "source": [
    "df$maritalstatusbi<-factor(df$maritalstatusbi,\n",
    "               levels=c(1,0),\n",
    "               labels = c(\"Yes\",\"No\"))"
   ]
  },
  {
   "cell_type": "code",
   "execution_count": 16,
   "id": "83f5d756",
   "metadata": {},
   "outputs": [
    {
     "data": {
      "text/html": [
       "<dl>\n",
       "\t<dt>$cross_table</dt>\n",
       "\t\t<dd><table>\n",
       "<thead><tr><th></th><th scope=col>Urban</th><th scope=col>Rural</th><th scope=col>Total</th></tr></thead>\n",
       "<tbody>\n",
       "\t<tr><th scope=row>Yes</th><td>197 </td><td>179 </td><td> 376</td></tr>\n",
       "\t<tr><th scope=row>No</th><td>386 </td><td>552 </td><td> 938</td></tr>\n",
       "\t<tr><th scope=row>Total</th><td>583 </td><td>731 </td><td>1314</td></tr>\n",
       "</tbody>\n",
       "</table>\n",
       "</dd>\n",
       "\t<dt>$proportions</dt>\n",
       "\t\t<dd><table>\n",
       "<thead><tr><th></th><th scope=col>Urban</th><th scope=col>Rural</th><th scope=col>Total</th></tr></thead>\n",
       "<tbody>\n",
       "\t<tr><th scope=row>Yes</th><td>0.5239362</td><td>0.4760638</td><td>1        </td></tr>\n",
       "\t<tr><th scope=row>No</th><td>0.4115139</td><td>0.5884861</td><td>1        </td></tr>\n",
       "\t<tr><th scope=row>Total</th><td>0.4436834</td><td>0.5563166</td><td>1        </td></tr>\n",
       "</tbody>\n",
       "</table>\n",
       "</dd>\n",
       "</dl>\n"
      ],
      "text/latex": [
       "\\begin{description}\n",
       "\\item[\\$cross\\_table] \\begin{tabular}{r|lll}\n",
       "  & Urban & Rural & Total\\\\\n",
       "\\hline\n",
       "\tYes & 197  & 179  &  376\\\\\n",
       "\tNo & 386  & 552  &  938\\\\\n",
       "\tTotal & 583  & 731  & 1314\\\\\n",
       "\\end{tabular}\n",
       "\n",
       "\\item[\\$proportions] \\begin{tabular}{r|lll}\n",
       "  & Urban & Rural & Total\\\\\n",
       "\\hline\n",
       "\tYes & 0.5239362 & 0.4760638 & 1        \\\\\n",
       "\tNo & 0.4115139 & 0.5884861 & 1        \\\\\n",
       "\tTotal & 0.4436834 & 0.5563166 & 1        \\\\\n",
       "\\end{tabular}\n",
       "\n",
       "\\end{description}\n"
      ],
      "text/markdown": [
       "$cross_table\n",
       ":   \n",
       "| <!--/--> | Urban | Rural | Total |\n",
       "|---|---|---|---|\n",
       "| Yes | 197  | 179  |  376 |\n",
       "| No | 386  | 552  |  938 |\n",
       "| Total | 583  | 731  | 1314 |\n",
       "\n",
       "\n",
       "$proportions\n",
       ":   \n",
       "| <!--/--> | Urban | Rural | Total |\n",
       "|---|---|---|---|\n",
       "| Yes | 0.5239362 | 0.4760638 | 1         |\n",
       "| No | 0.4115139 | 0.5884861 | 1         |\n",
       "| Total | 0.4436834 | 0.5563166 | 1         |\n",
       "\n",
       "\n",
       "\n",
       "\n"
      ],
      "text/plain": [
       "Cross-Tabulation, Row Proportions  \n",
       "srhraccessdisrupt * residence  \n",
       "Data Frame: df  \n",
       "\n",
       "\n",
       "------------------- ----------- ------------- ------------- ---------------\n",
       "                      residence         Urban         Rural           Total\n",
       "  srhraccessdisrupt                                                        \n",
       "                Yes               197 (52.4%)   179 (47.6%)    376 (100.0%)\n",
       "                 No               386 (41.2%)   552 (58.8%)    938 (100.0%)\n",
       "              Total               583 (44.4%)   731 (55.6%)   1314 (100.0%)\n",
       "------------------- ----------- ------------- ------------- ---------------\n",
       "\n",
       "| Chi.squared | df | p.value |\n",
       "|:-----------:|:--:|:-------:|\n",
       "|   13.2921   | 1  |  3e-04  |"
      ]
     },
     "metadata": {},
     "output_type": "display_data"
    }
   ],
   "source": [
    "# Let us do some cross tabultion between the outcome and the predictor variables. \n",
    "# The command below is also supposed to show chi squared estimate.\n",
    "\n",
    "ctable(df$srhraccessdisrupt,df$residence, chisq = TRUE)\n",
    "\n",
    "# The association is significant at p<0.05"
   ]
  },
  {
   "cell_type": "code",
   "execution_count": 17,
   "id": "b66056a1",
   "metadata": {},
   "outputs": [
    {
     "data": {
      "text/html": [
       "<dl>\n",
       "\t<dt>$cross_table</dt>\n",
       "\t\t<dd><table>\n",
       "<thead><tr><th></th><th scope=col>No formal education</th><th scope=col>Some primary or completed primary</th><th scope=col>Some primary or completed secondary</th><th scope=col>Undergraduate</th><th scope=col>Postgraduate and above</th><th scope=col>Total</th></tr></thead>\n",
       "<tbody>\n",
       "\t<tr><th scope=row>Yes</th><td> 44 </td><td> 82 </td><td> 63 </td><td>109 </td><td> 78 </td><td> 376</td></tr>\n",
       "\t<tr><th scope=row>No</th><td> 66 </td><td>230 </td><td>130 </td><td>253 </td><td>259 </td><td> 938</td></tr>\n",
       "\t<tr><th scope=row>Total</th><td>110 </td><td>312 </td><td>193 </td><td>362 </td><td>337 </td><td>1314</td></tr>\n",
       "</tbody>\n",
       "</table>\n",
       "</dd>\n",
       "\t<dt>$proportions</dt>\n",
       "\t\t<dd><table>\n",
       "<thead><tr><th></th><th scope=col>No formal education</th><th scope=col>Some primary or completed primary</th><th scope=col>Some primary or completed secondary</th><th scope=col>Undergraduate</th><th scope=col>Postgraduate and above</th><th scope=col>Total</th></tr></thead>\n",
       "<tbody>\n",
       "\t<tr><th scope=row>Yes</th><td>0.11702128</td><td>0.2180851 </td><td>0.1675532 </td><td>0.2898936 </td><td>0.2074468 </td><td>1         </td></tr>\n",
       "\t<tr><th scope=row>No</th><td>0.07036247</td><td>0.2452026 </td><td>0.1385928 </td><td>0.2697228 </td><td>0.2761194 </td><td>1         </td></tr>\n",
       "\t<tr><th scope=row>Total</th><td>0.08371385</td><td>0.2374429 </td><td>0.1468798 </td><td>0.2754947 </td><td>0.2564688 </td><td>1         </td></tr>\n",
       "</tbody>\n",
       "</table>\n",
       "</dd>\n",
       "</dl>\n"
      ],
      "text/latex": [
       "\\begin{description}\n",
       "\\item[\\$cross\\_table] \\begin{tabular}{r|llllll}\n",
       "  & No formal education & Some primary or completed primary & Some primary or completed secondary & Undergraduate & Postgraduate and above & Total\\\\\n",
       "\\hline\n",
       "\tYes &  44  &  82  &  63  & 109  &  78  &  376\\\\\n",
       "\tNo &  66  & 230  & 130  & 253  & 259  &  938\\\\\n",
       "\tTotal & 110  & 312  & 193  & 362  & 337  & 1314\\\\\n",
       "\\end{tabular}\n",
       "\n",
       "\\item[\\$proportions] \\begin{tabular}{r|llllll}\n",
       "  & No formal education & Some primary or completed primary & Some primary or completed secondary & Undergraduate & Postgraduate and above & Total\\\\\n",
       "\\hline\n",
       "\tYes & 0.11702128 & 0.2180851  & 0.1675532  & 0.2898936  & 0.2074468  & 1         \\\\\n",
       "\tNo & 0.07036247 & 0.2452026  & 0.1385928  & 0.2697228  & 0.2761194  & 1         \\\\\n",
       "\tTotal & 0.08371385 & 0.2374429  & 0.1468798  & 0.2754947  & 0.2564688  & 1         \\\\\n",
       "\\end{tabular}\n",
       "\n",
       "\\end{description}\n"
      ],
      "text/markdown": [
       "$cross_table\n",
       ":   \n",
       "| <!--/--> | No formal education | Some primary or completed primary | Some primary or completed secondary | Undergraduate | Postgraduate and above | Total |\n",
       "|---|---|---|---|---|---|---|\n",
       "| Yes |  44  |  82  |  63  | 109  |  78  |  376 |\n",
       "| No |  66  | 230  | 130  | 253  | 259  |  938 |\n",
       "| Total | 110  | 312  | 193  | 362  | 337  | 1314 |\n",
       "\n",
       "\n",
       "$proportions\n",
       ":   \n",
       "| <!--/--> | No formal education | Some primary or completed primary | Some primary or completed secondary | Undergraduate | Postgraduate and above | Total |\n",
       "|---|---|---|---|---|---|---|\n",
       "| Yes | 0.11702128 | 0.2180851  | 0.1675532  | 0.2898936  | 0.2074468  | 1          |\n",
       "| No | 0.07036247 | 0.2452026  | 0.1385928  | 0.2697228  | 0.2761194  | 1          |\n",
       "| Total | 0.08371385 | 0.2374429  | 0.1468798  | 0.2754947  | 0.2564688  | 1          |\n",
       "\n",
       "\n",
       "\n",
       "\n"
      ],
      "text/plain": [
       "Cross-Tabulation, Row Proportions  \n",
       "srhraccessdisrupt * education  \n",
       "Data Frame: df  \n",
       "\n",
       "\n",
       "------------------- ----------- --------------------- ----------------------------------- ------------------------------------- --------------- ------------------------ ---------------\n",
       "                      education   No formal education   Some primary or completed primary   Some primary or completed secondary   Undergraduate   Postgraduate and above           Total\n",
       "  srhraccessdisrupt                                                                                                                                                                     \n",
       "                Yes                        44 (11.7%)                          82 (21.8%)                            63 (16.8%)     109 (29.0%)               78 (20.7%)    376 (100.0%)\n",
       "                 No                        66 ( 7.0%)                         230 (24.5%)                           130 (13.9%)     253 (27.0%)              259 (27.6%)    938 (100.0%)\n",
       "              Total                       110 ( 8.4%)                         312 (23.7%)                           193 (14.7%)     362 (27.5%)              337 (25.6%)   1314 (100.0%)\n",
       "------------------- ----------- --------------------- ----------------------------------- ------------------------------------- --------------- ------------------------ ---------------\n",
       "\n",
       "| Chi.squared | df | p.value |\n",
       "|:-----------:|:--:|:-------:|\n",
       "|   14.6759   | 4  | 0.0054  |"
      ]
     },
     "metadata": {},
     "output_type": "display_data"
    }
   ],
   "source": [
    "ctable(df$srhraccessdisrupt,df$education, chisq = TRUE)\n",
    "\n",
    "# The association is significant at p<0.05"
   ]
  },
  {
   "cell_type": "code",
   "execution_count": 18,
   "id": "db02bc7e",
   "metadata": {},
   "outputs": [
    {
     "name": "stderr",
     "output_type": "stream",
     "text": [
      "Warning message in chisq.test(freq_table_min):\n",
      "\"Chi-squared approximation may be incorrect\""
     ]
    },
    {
     "data": {
      "text/html": [
       "<dl>\n",
       "\t<dt>$cross_table</dt>\n",
       "\t\t<dd><table>\n",
       "<thead><tr><th></th><th scope=col>Brahmin/Chhetri</th><th scope=col>Janajati press</th><th scope=col>Madhesi</th><th scope=col>Newar</th><th scope=col>Dalit</th><th scope=col>Muslim</th><th scope=col>Others</th><th scope=col>Total</th></tr></thead>\n",
       "<tbody>\n",
       "\t<tr><th scope=row>Yes</th><td>163 </td><td> 32 </td><td>111 </td><td>27  </td><td> 3  </td><td>16  </td><td>24  </td><td> 376</td></tr>\n",
       "\t<tr><th scope=row>No</th><td>448 </td><td> 68 </td><td>268 </td><td>47  </td><td> 8  </td><td>48  </td><td>51  </td><td> 938</td></tr>\n",
       "\t<tr><th scope=row>Total</th><td>611 </td><td>100 </td><td>379 </td><td>74  </td><td>11  </td><td>64  </td><td>75  </td><td>1314</td></tr>\n",
       "</tbody>\n",
       "</table>\n",
       "</dd>\n",
       "\t<dt>$proportions</dt>\n",
       "\t\t<dd><table>\n",
       "<thead><tr><th></th><th scope=col>Brahmin/Chhetri</th><th scope=col>Janajati press</th><th scope=col>Madhesi</th><th scope=col>Newar</th><th scope=col>Dalit</th><th scope=col>Muslim</th><th scope=col>Others</th><th scope=col>Total</th></tr></thead>\n",
       "<tbody>\n",
       "\t<tr><th scope=row>Yes</th><td>0.4335106  </td><td>0.08510638 </td><td>0.2952128  </td><td>0.07180851 </td><td>0.007978723</td><td>0.04255319 </td><td>0.06382979 </td><td>1          </td></tr>\n",
       "\t<tr><th scope=row>No</th><td>0.4776119  </td><td>0.07249467 </td><td>0.2857143  </td><td>0.05010661 </td><td>0.008528785</td><td>0.05117271 </td><td>0.05437100 </td><td>1          </td></tr>\n",
       "\t<tr><th scope=row>Total</th><td>0.4649924  </td><td>0.07610350 </td><td>0.2884323  </td><td>0.05631659 </td><td>0.008371385</td><td>0.04870624 </td><td>0.05707763 </td><td>1          </td></tr>\n",
       "</tbody>\n",
       "</table>\n",
       "</dd>\n",
       "</dl>\n"
      ],
      "text/latex": [
       "\\begin{description}\n",
       "\\item[\\$cross\\_table] \\begin{tabular}{r|llllllll}\n",
       "  & Brahmin/Chhetri & Janajati press & Madhesi & Newar & Dalit & Muslim & Others & Total\\\\\n",
       "\\hline\n",
       "\tYes & 163  &  32  & 111  & 27   &  3   & 16   & 24   &  376\\\\\n",
       "\tNo & 448  &  68  & 268  & 47   &  8   & 48   & 51   &  938\\\\\n",
       "\tTotal & 611  & 100  & 379  & 74   & 11   & 64   & 75   & 1314\\\\\n",
       "\\end{tabular}\n",
       "\n",
       "\\item[\\$proportions] \\begin{tabular}{r|llllllll}\n",
       "  & Brahmin/Chhetri & Janajati press & Madhesi & Newar & Dalit & Muslim & Others & Total\\\\\n",
       "\\hline\n",
       "\tYes & 0.4335106   & 0.08510638  & 0.2952128   & 0.07180851  & 0.007978723 & 0.04255319  & 0.06382979  & 1          \\\\\n",
       "\tNo & 0.4776119   & 0.07249467  & 0.2857143   & 0.05010661  & 0.008528785 & 0.05117271  & 0.05437100  & 1          \\\\\n",
       "\tTotal & 0.4649924   & 0.07610350  & 0.2884323   & 0.05631659  & 0.008371385 & 0.04870624  & 0.05707763  & 1          \\\\\n",
       "\\end{tabular}\n",
       "\n",
       "\\end{description}\n"
      ],
      "text/markdown": [
       "$cross_table\n",
       ":   \n",
       "| <!--/--> | Brahmin/Chhetri | Janajati press | Madhesi | Newar | Dalit | Muslim | Others | Total |\n",
       "|---|---|---|---|---|---|---|---|---|\n",
       "| Yes | 163  |  32  | 111  | 27   |  3   | 16   | 24   |  376 |\n",
       "| No | 448  |  68  | 268  | 47   |  8   | 48   | 51   |  938 |\n",
       "| Total | 611  | 100  | 379  | 74   | 11   | 64   | 75   | 1314 |\n",
       "\n",
       "\n",
       "$proportions\n",
       ":   \n",
       "| <!--/--> | Brahmin/Chhetri | Janajati press | Madhesi | Newar | Dalit | Muslim | Others | Total |\n",
       "|---|---|---|---|---|---|---|---|---|\n",
       "| Yes | 0.4335106   | 0.08510638  | 0.2952128   | 0.07180851  | 0.007978723 | 0.04255319  | 0.06382979  | 1           |\n",
       "| No | 0.4776119   | 0.07249467  | 0.2857143   | 0.05010661  | 0.008528785 | 0.05117271  | 0.05437100  | 1           |\n",
       "| Total | 0.4649924   | 0.07610350  | 0.2884323   | 0.05631659  | 0.008371385 | 0.04870624  | 0.05707763  | 1           |\n",
       "\n",
       "\n",
       "\n",
       "\n"
      ],
      "text/plain": [
       "Cross-Tabulation, Row Proportions  \n",
       "srhraccessdisrupt * ethnicity  \n",
       "Data Frame: df  \n",
       "\n",
       "\n",
       "------------------- ----------- ----------------- ---------------- ------------- ----------- ----------- ----------- ----------- ---------------\n",
       "                      ethnicity   Brahmin/Chhetri   Janajati press       Madhesi       Newar       Dalit      Muslim      Others           Total\n",
       "  srhraccessdisrupt                                                                                                                             \n",
       "                Yes                   163 (43.4%)        32 (8.5%)   111 (29.5%)   27 (7.2%)    3 (0.8%)   16 (4.3%)   24 (6.4%)    376 (100.0%)\n",
       "                 No                   448 (47.8%)        68 (7.2%)   268 (28.6%)   47 (5.0%)    8 (0.9%)   48 (5.1%)   51 (5.4%)    938 (100.0%)\n",
       "              Total                   611 (46.5%)       100 (7.6%)   379 (28.8%)   74 (5.6%)   11 (0.8%)   64 (4.9%)   75 (5.7%)   1314 (100.0%)\n",
       "------------------- ----------- ----------------- ---------------- ------------- ----------- ----------- ----------- ----------- ---------------\n",
       "\n",
       "| Chi.squared | df | p.value |\n",
       "|:-----------:|:--:|:-------:|\n",
       "|   4.8521    | 6  | 0.5629  |"
      ]
     },
     "metadata": {},
     "output_type": "display_data"
    }
   ],
   "source": [
    "ctable(df$srhraccessdisrupt,df$ethnicity, chisq = TRUE)\n",
    "\n",
    "# The association is not significant at p<0.05"
   ]
  },
  {
   "cell_type": "code",
   "execution_count": 19,
   "id": "13779ead",
   "metadata": {},
   "outputs": [
    {
     "data": {
      "text/html": [
       "<dl>\n",
       "\t<dt>$cross_table</dt>\n",
       "\t\t<dd><table>\n",
       "<thead><tr><th></th><th scope=col>Yes</th><th scope=col>No</th><th scope=col>Total</th></tr></thead>\n",
       "<tbody>\n",
       "\t<tr><th scope=row>Yes</th><td>158 </td><td>218 </td><td> 376</td></tr>\n",
       "\t<tr><th scope=row>No</th><td>316 </td><td>622 </td><td> 938</td></tr>\n",
       "\t<tr><th scope=row>Total</th><td>474 </td><td>840 </td><td>1314</td></tr>\n",
       "</tbody>\n",
       "</table>\n",
       "</dd>\n",
       "\t<dt>$proportions</dt>\n",
       "\t\t<dd><table>\n",
       "<thead><tr><th></th><th scope=col>Yes</th><th scope=col>No</th><th scope=col>Total</th></tr></thead>\n",
       "<tbody>\n",
       "\t<tr><th scope=row>Yes</th><td>0.4202128</td><td>0.5797872</td><td>1        </td></tr>\n",
       "\t<tr><th scope=row>No</th><td>0.3368870</td><td>0.6631130</td><td>1        </td></tr>\n",
       "\t<tr><th scope=row>Total</th><td>0.3607306</td><td>0.6392694</td><td>1        </td></tr>\n",
       "</tbody>\n",
       "</table>\n",
       "</dd>\n",
       "</dl>\n"
      ],
      "text/latex": [
       "\\begin{description}\n",
       "\\item[\\$cross\\_table] \\begin{tabular}{r|lll}\n",
       "  & Yes & No & Total\\\\\n",
       "\\hline\n",
       "\tYes & 158  & 218  &  376\\\\\n",
       "\tNo & 316  & 622  &  938\\\\\n",
       "\tTotal & 474  & 840  & 1314\\\\\n",
       "\\end{tabular}\n",
       "\n",
       "\\item[\\$proportions] \\begin{tabular}{r|lll}\n",
       "  & Yes & No & Total\\\\\n",
       "\\hline\n",
       "\tYes & 0.4202128 & 0.5797872 & 1        \\\\\n",
       "\tNo & 0.3368870 & 0.6631130 & 1        \\\\\n",
       "\tTotal & 0.3607306 & 0.6392694 & 1        \\\\\n",
       "\\end{tabular}\n",
       "\n",
       "\\end{description}\n"
      ],
      "text/markdown": [
       "$cross_table\n",
       ":   \n",
       "| <!--/--> | Yes | No | Total |\n",
       "|---|---|---|---|\n",
       "| Yes | 158  | 218  |  376 |\n",
       "| No | 316  | 622  |  938 |\n",
       "| Total | 474  | 840  | 1314 |\n",
       "\n",
       "\n",
       "$proportions\n",
       ":   \n",
       "| <!--/--> | Yes | No | Total |\n",
       "|---|---|---|---|\n",
       "| Yes | 0.4202128 | 0.5797872 | 1         |\n",
       "| No | 0.3368870 | 0.6631130 | 1         |\n",
       "| Total | 0.3607306 | 0.6392694 | 1         |\n",
       "\n",
       "\n",
       "\n",
       "\n"
      ],
      "text/plain": [
       "Cross-Tabulation, Row Proportions  \n",
       "srhraccessdisrupt * maritalstatusbi  \n",
       "Data Frame: df  \n",
       "\n",
       "\n",
       "------------------- ----------------- ------------- ------------- ---------------\n",
       "                      maritalstatusbi           Yes            No           Total\n",
       "  srhraccessdisrupt                                                              \n",
       "                Yes                     158 (42.0%)   218 (58.0%)    376 (100.0%)\n",
       "                 No                     316 (33.7%)   622 (66.3%)    938 (100.0%)\n",
       "              Total                     474 (36.1%)   840 (63.9%)   1314 (100.0%)\n",
       "------------------- ----------------- ------------- ------------- ---------------\n",
       "\n",
       "| Chi.squared | df | p.value |\n",
       "|:-----------:|:--:|:-------:|\n",
       "|   7.7241    | 1  | 0.0054  |"
      ]
     },
     "metadata": {},
     "output_type": "display_data"
    }
   ],
   "source": [
    "ctable(df$srhraccessdisrupt,df$maritalstatusbi, chisq = TRUE)\n",
    "\n",
    "# The association is significant at p<0.05"
   ]
  },
  {
   "cell_type": "code",
   "execution_count": 20,
   "id": "839089d0",
   "metadata": {},
   "outputs": [
    {
     "data": {
      "text/html": [
       "<dl>\n",
       "\t<dt>$cross_table</dt>\n",
       "\t\t<dd><table>\n",
       "<thead><tr><th></th><th scope=col>Yes</th><th scope=col>No</th><th scope=col>Total</th></tr></thead>\n",
       "<tbody>\n",
       "\t<tr><th scope=row>Yes</th><td> 335</td><td>41  </td><td> 376</td></tr>\n",
       "\t<tr><th scope=row>No</th><td> 896</td><td>42  </td><td> 938</td></tr>\n",
       "\t<tr><th scope=row>Total</th><td>1231</td><td>83  </td><td>1314</td></tr>\n",
       "</tbody>\n",
       "</table>\n",
       "</dd>\n",
       "\t<dt>$proportions</dt>\n",
       "\t\t<dd><table>\n",
       "<thead><tr><th></th><th scope=col>Yes</th><th scope=col>No</th><th scope=col>Total</th></tr></thead>\n",
       "<tbody>\n",
       "\t<tr><th scope=row>Yes</th><td>0.8909574 </td><td>0.10904255</td><td>1         </td></tr>\n",
       "\t<tr><th scope=row>No</th><td>0.9552239 </td><td>0.04477612</td><td>1         </td></tr>\n",
       "\t<tr><th scope=row>Total</th><td>0.9368341 </td><td>0.06316591</td><td>1         </td></tr>\n",
       "</tbody>\n",
       "</table>\n",
       "</dd>\n",
       "</dl>\n"
      ],
      "text/latex": [
       "\\begin{description}\n",
       "\\item[\\$cross\\_table] \\begin{tabular}{r|lll}\n",
       "  & Yes & No & Total\\\\\n",
       "\\hline\n",
       "\tYes &  335 & 41   &  376\\\\\n",
       "\tNo &  896 & 42   &  938\\\\\n",
       "\tTotal & 1231 & 83   & 1314\\\\\n",
       "\\end{tabular}\n",
       "\n",
       "\\item[\\$proportions] \\begin{tabular}{r|lll}\n",
       "  & Yes & No & Total\\\\\n",
       "\\hline\n",
       "\tYes & 0.8909574  & 0.10904255 & 1         \\\\\n",
       "\tNo & 0.9552239  & 0.04477612 & 1         \\\\\n",
       "\tTotal & 0.9368341  & 0.06316591 & 1         \\\\\n",
       "\\end{tabular}\n",
       "\n",
       "\\end{description}\n"
      ],
      "text/markdown": [
       "$cross_table\n",
       ":   \n",
       "| <!--/--> | Yes | No | Total |\n",
       "|---|---|---|---|\n",
       "| Yes |  335 | 41   |  376 |\n",
       "| No |  896 | 42   |  938 |\n",
       "| Total | 1231 | 83   | 1314 |\n",
       "\n",
       "\n",
       "$proportions\n",
       ":   \n",
       "| <!--/--> | Yes | No | Total |\n",
       "|---|---|---|---|\n",
       "| Yes | 0.8909574  | 0.10904255 | 1          |\n",
       "| No | 0.9552239  | 0.04477612 | 1          |\n",
       "| Total | 0.9368341  | 0.06316591 | 1          |\n",
       "\n",
       "\n",
       "\n",
       "\n"
      ],
      "text/plain": [
       "Cross-Tabulation, Row Proportions  \n",
       "srhraccessdisrupt * pwd  \n",
       "Data Frame: df  \n",
       "\n",
       "\n",
       "------------------- ----- -------------- ------------ ---------------\n",
       "                      pwd            Yes           No           Total\n",
       "  srhraccessdisrupt                                                  \n",
       "                Yes          335 (89.1%)   41 (10.9%)    376 (100.0%)\n",
       "                 No          896 (95.5%)   42 ( 4.5%)    938 (100.0%)\n",
       "              Total         1231 (93.7%)   83 ( 6.3%)   1314 (100.0%)\n",
       "------------------- ----- -------------- ------------ ---------------\n",
       "\n",
       "| Chi.squared | df | p.value |\n",
       "|:-----------:|:--:|:-------:|\n",
       "|   17.6632   | 1  |    0    |"
      ]
     },
     "metadata": {},
     "output_type": "display_data"
    }
   ],
   "source": [
    "ctable(df$srhraccessdisrupt,df$pwd, chisq = TRUE)\n",
    "\n",
    "# The association is significant at p<0.05"
   ]
  },
  {
   "cell_type": "code",
   "execution_count": 21,
   "id": "4466f001",
   "metadata": {},
   "outputs": [
    {
     "data": {
      "text/plain": [
       "\n",
       "\tWelch Two Sample t-test\n",
       "\n",
       "data:  age by srhraccessdisrupt\n",
       "t = 0.13301, df = 689.78, p-value = 0.8942\n",
       "alternative hypothesis: true difference in means is not equal to 0\n",
       "95 percent confidence interval:\n",
       " -0.05454901  0.06247670\n",
       "sample estimates:\n",
       "mean in group Yes  mean in group No \n",
       "         1.390957          1.386994 \n"
      ]
     },
     "metadata": {},
     "output_type": "display_data"
    }
   ],
   "source": [
    "t.test(age~srhraccessdisrupt, data=df)\n",
    "\n",
    "# Age is not associated with the outcome variable. "
   ]
  },
  {
   "cell_type": "code",
   "execution_count": 22,
   "id": "bb641cf2",
   "metadata": {},
   "outputs": [
    {
     "data": {
      "text/plain": [
       "\n",
       "Call:\n",
       "glm(formula = srhraccessdisrupt ~ ethnicity + age + residence + \n",
       "    pwd + education + maritalstatusbi, family = \"binomial\", data = df)\n",
       "\n",
       "Deviance Residuals: \n",
       "    Min       1Q   Median       3Q      Max  \n",
       "-1.8590  -1.3432   0.7142   0.8303   1.4440  \n",
       "\n",
       "Coefficients:\n",
       "                                             Estimate Std. Error z value\n",
       "(Intercept)                                   0.45437    0.29455   1.543\n",
       "ethnicityJanajati press                      -0.12295    0.23982  -0.513\n",
       "ethnicityMadhesi                             -0.08717    0.14943  -0.583\n",
       "ethnicityNewar                               -0.39410    0.26438  -1.491\n",
       "ethnicityDalit                                0.24192    0.69864   0.346\n",
       "ethnicityMuslim                               0.01912    0.30718   0.062\n",
       "ethnicityOthers                              -0.09204    0.27266  -0.338\n",
       "age                                          -0.01203    0.13487  -0.089\n",
       "residenceRural                                0.34814    0.13107   2.656\n",
       "pwdNo                                        -0.85425    0.23678  -3.608\n",
       "educationSome primary or completed primary    0.24223    0.25412   0.953\n",
       "educationSome primary or completed secondary  0.21798    0.25505   0.855\n",
       "educationUndergraduate                        0.19818    0.23785   0.833\n",
       "educationPostgraduate and above               0.47544    0.24932   1.907\n",
       "maritalstatusbiNo                             0.24734    0.13663   1.810\n",
       "                                             Pr(>|z|)    \n",
       "(Intercept)                                  0.122928    \n",
       "ethnicityJanajati press                      0.608179    \n",
       "ethnicityMadhesi                             0.559675    \n",
       "ethnicityNewar                               0.136056    \n",
       "ethnicityDalit                               0.729138    \n",
       "ethnicityMuslim                              0.950363    \n",
       "ethnicityOthers                              0.735685    \n",
       "age                                          0.928914    \n",
       "residenceRural                               0.007905 ** \n",
       "pwdNo                                        0.000309 ***\n",
       "educationSome primary or completed primary   0.340475    \n",
       "educationSome primary or completed secondary 0.392739    \n",
       "educationUndergraduate                       0.404719    \n",
       "educationPostgraduate and above              0.056521 .  \n",
       "maritalstatusbiNo                            0.070255 .  \n",
       "---\n",
       "Signif. codes:  0 '***' 0.001 '**' 0.01 '*' 0.05 '.' 0.1 ' ' 1\n",
       "\n",
       "(Dispersion parameter for binomial family taken to be 1)\n",
       "\n",
       "    Null deviance: 1573.3  on 1313  degrees of freedom\n",
       "Residual deviance: 1531.4  on 1299  degrees of freedom\n",
       "AIC: 1561.4\n",
       "\n",
       "Number of Fisher Scoring iterations: 4\n"
      ]
     },
     "metadata": {},
     "output_type": "display_data"
    }
   ],
   "source": [
    "# Now let us build a regression model with all the predictor variables. \n",
    "# We do this using the glm (generalized linear model) function\n",
    "\n",
    "mylogit<-glm(srhraccessdisrupt~ethnicity+age+residence+pwd+education+maritalstatusbi, data=df, family=\"binomial\")\n",
    "summary(mylogit)\n",
    "\n",
    "# We see that residence and disability status (pwd) is significantly associated with experience of SRHR service disruption.\n",
    "# Residual deviance denotes the fit of the model (we get more into that at the end)"
   ]
  },
  {
   "cell_type": "code",
   "execution_count": 23,
   "id": "8273b913",
   "metadata": {},
   "outputs": [
    {
     "name": "stderr",
     "output_type": "stream",
     "text": [
      "Waiting for profiling to be done...\n"
     ]
    },
    {
     "data": {
      "text/html": [
       "<table>\n",
       "<thead><tr><th></th><th scope=col>2.5 %</th><th scope=col>97.5 %</th></tr></thead>\n",
       "<tbody>\n",
       "\t<tr><th scope=row>(Intercept)</th><td>-0.12045408</td><td> 1.0357313 </td></tr>\n",
       "\t<tr><th scope=row>ethnicityJanajati press</th><td>-0.58567420</td><td> 0.3569925 </td></tr>\n",
       "\t<tr><th scope=row>ethnicityMadhesi</th><td>-0.37911041</td><td> 0.2070619 </td></tr>\n",
       "\t<tr><th scope=row>ethnicityNewar</th><td>-0.90561557</td><td> 0.1344242 </td></tr>\n",
       "\t<tr><th scope=row>ethnicityDalit</th><td>-1.04221240</td><td> 1.7945826 </td></tr>\n",
       "\t<tr><th scope=row>ethnicityMuslim</th><td>-0.56302560</td><td> 0.6485112 </td></tr>\n",
       "\t<tr><th scope=row>ethnicityOthers</th><td>-0.61643499</td><td> 0.4564242 </td></tr>\n",
       "\t<tr><th scope=row>age</th><td>-0.27569674</td><td> 0.2533058 </td></tr>\n",
       "\t<tr><th scope=row>residenceRural</th><td> 0.09130689</td><td> 0.6053809 </td></tr>\n",
       "\t<tr><th scope=row>pwdNo</th><td>-1.31915228</td><td>-0.3881897 </td></tr>\n",
       "\t<tr><th scope=row>educationSome primary or completed primary</th><td>-0.25936874</td><td> 0.7383035 </td></tr>\n",
       "\t<tr><th scope=row>educationSome primary or completed secondary</th><td>-0.28407813</td><td> 0.7173296 </td></tr>\n",
       "\t<tr><th scope=row>educationUndergraduate</th><td>-0.27234618</td><td> 0.6616508 </td></tr>\n",
       "\t<tr><th scope=row>educationPostgraduate and above</th><td>-0.01646824</td><td> 0.9624367 </td></tr>\n",
       "\t<tr><th scope=row>maritalstatusbiNo</th><td>-0.02135058</td><td> 0.5145538 </td></tr>\n",
       "</tbody>\n",
       "</table>\n"
      ],
      "text/latex": [
       "\\begin{tabular}{r|ll}\n",
       "  & 2.5 \\% & 97.5 \\%\\\\\n",
       "\\hline\n",
       "\t(Intercept) & -0.12045408 &  1.0357313 \\\\\n",
       "\tethnicityJanajati press & -0.58567420 &  0.3569925 \\\\\n",
       "\tethnicityMadhesi & -0.37911041 &  0.2070619 \\\\\n",
       "\tethnicityNewar & -0.90561557 &  0.1344242 \\\\\n",
       "\tethnicityDalit & -1.04221240 &  1.7945826 \\\\\n",
       "\tethnicityMuslim & -0.56302560 &  0.6485112 \\\\\n",
       "\tethnicityOthers & -0.61643499 &  0.4564242 \\\\\n",
       "\tage & -0.27569674 &  0.2533058 \\\\\n",
       "\tresidenceRural &  0.09130689 &  0.6053809 \\\\\n",
       "\tpwdNo & -1.31915228 & -0.3881897 \\\\\n",
       "\teducationSome primary or completed primary & -0.25936874 &  0.7383035 \\\\\n",
       "\teducationSome primary or completed secondary & -0.28407813 &  0.7173296 \\\\\n",
       "\teducationUndergraduate & -0.27234618 &  0.6616508 \\\\\n",
       "\teducationPostgraduate and above & -0.01646824 &  0.9624367 \\\\\n",
       "\tmaritalstatusbiNo & -0.02135058 &  0.5145538 \\\\\n",
       "\\end{tabular}\n"
      ],
      "text/markdown": [
       "\n",
       "| <!--/--> | 2.5 % | 97.5 % |\n",
       "|---|---|---|\n",
       "| (Intercept) | -0.12045408 |  1.0357313  |\n",
       "| ethnicityJanajati press | -0.58567420 |  0.3569925  |\n",
       "| ethnicityMadhesi | -0.37911041 |  0.2070619  |\n",
       "| ethnicityNewar | -0.90561557 |  0.1344242  |\n",
       "| ethnicityDalit | -1.04221240 |  1.7945826  |\n",
       "| ethnicityMuslim | -0.56302560 |  0.6485112  |\n",
       "| ethnicityOthers | -0.61643499 |  0.4564242  |\n",
       "| age | -0.27569674 |  0.2533058  |\n",
       "| residenceRural |  0.09130689 |  0.6053809  |\n",
       "| pwdNo | -1.31915228 | -0.3881897  |\n",
       "| educationSome primary or completed primary | -0.25936874 |  0.7383035  |\n",
       "| educationSome primary or completed secondary | -0.28407813 |  0.7173296  |\n",
       "| educationUndergraduate | -0.27234618 |  0.6616508  |\n",
       "| educationPostgraduate and above | -0.01646824 |  0.9624367  |\n",
       "| maritalstatusbiNo | -0.02135058 |  0.5145538  |\n",
       "\n"
      ],
      "text/plain": [
       "                                             2.5 %       97.5 %    \n",
       "(Intercept)                                  -0.12045408  1.0357313\n",
       "ethnicityJanajati press                      -0.58567420  0.3569925\n",
       "ethnicityMadhesi                             -0.37911041  0.2070619\n",
       "ethnicityNewar                               -0.90561557  0.1344242\n",
       "ethnicityDalit                               -1.04221240  1.7945826\n",
       "ethnicityMuslim                              -0.56302560  0.6485112\n",
       "ethnicityOthers                              -0.61643499  0.4564242\n",
       "age                                          -0.27569674  0.2533058\n",
       "residenceRural                                0.09130689  0.6053809\n",
       "pwdNo                                        -1.31915228 -0.3881897\n",
       "educationSome primary or completed primary   -0.25936874  0.7383035\n",
       "educationSome primary or completed secondary -0.28407813  0.7173296\n",
       "educationUndergraduate                       -0.27234618  0.6616508\n",
       "educationPostgraduate and above              -0.01646824  0.9624367\n",
       "maritalstatusbiNo                            -0.02135058  0.5145538"
      ]
     },
     "metadata": {},
     "output_type": "display_data"
    }
   ],
   "source": [
    "# Let us generate confidence intervals for the coefficient estimates.\n",
    "\n",
    "confint(mylogit)\n"
   ]
  },
  {
   "cell_type": "code",
   "execution_count": 24,
   "id": "b73ed111",
   "metadata": {},
   "outputs": [
    {
     "name": "stderr",
     "output_type": "stream",
     "text": [
      "Waiting for profiling to be done...\n"
     ]
    },
    {
     "data": {
      "text/html": [
       "<table>\n",
       "<thead><tr><th></th><th scope=col>OR</th><th scope=col>2.5 %</th><th scope=col>97.5 %</th></tr></thead>\n",
       "<tbody>\n",
       "\t<tr><th scope=row>(Intercept)</th><td>1.5751805</td><td>0.8865178</td><td>2.8171656</td></tr>\n",
       "\t<tr><th scope=row>ethnicityJanajati press</th><td>0.8843081</td><td>0.5567304</td><td>1.4290251</td></tr>\n",
       "\t<tr><th scope=row>ethnicityMadhesi</th><td>0.9165256</td><td>0.6844700</td><td>1.2300587</td></tr>\n",
       "\t<tr><th scope=row>ethnicityNewar</th><td>0.6742889</td><td>0.4042929</td><td>1.1438780</td></tr>\n",
       "\t<tr><th scope=row>ethnicityDalit</th><td>1.2736933</td><td>0.3526736</td><td>6.0169628</td></tr>\n",
       "\t<tr><th scope=row>ethnicityMuslim</th><td>1.0193061</td><td>0.5694834</td><td>1.9126911</td></tr>\n",
       "\t<tr><th scope=row>ethnicityOthers</th><td>0.9120665</td><td>0.5398656</td><td>1.5784198</td></tr>\n",
       "\t<tr><th scope=row>age</th><td>0.9880401</td><td>0.7590431</td><td>1.2882772</td></tr>\n",
       "\t<tr><th scope=row>residenceRural</th><td>1.4164329</td><td>1.0956052</td><td>1.8319500</td></tr>\n",
       "\t<tr><th scope=row>pwdNo</th><td>0.4256010</td><td>0.2673619</td><td>0.6782837</td></tr>\n",
       "\t<tr><th scope=row>educationSome primary or completed primary</th><td>1.2740888</td><td>0.7715385</td><td>2.0923828</td></tr>\n",
       "\t<tr><th scope=row>educationSome primary or completed secondary</th><td>1.2435640</td><td>0.7527078</td><td>2.0489543</td></tr>\n",
       "\t<tr><th scope=row>educationUndergraduate</th><td>1.2191851</td><td>0.7615906</td><td>1.9379888</td></tr>\n",
       "\t<tr><th scope=row>educationPostgraduate and above</th><td>1.6087292</td><td>0.9836666</td><td>2.6180682</td></tr>\n",
       "\t<tr><th scope=row>maritalstatusbiNo</th><td>1.2806093</td><td>0.9788757</td><td>1.6728918</td></tr>\n",
       "</tbody>\n",
       "</table>\n"
      ],
      "text/latex": [
       "\\begin{tabular}{r|lll}\n",
       "  & OR & 2.5 \\% & 97.5 \\%\\\\\n",
       "\\hline\n",
       "\t(Intercept) & 1.5751805 & 0.8865178 & 2.8171656\\\\\n",
       "\tethnicityJanajati press & 0.8843081 & 0.5567304 & 1.4290251\\\\\n",
       "\tethnicityMadhesi & 0.9165256 & 0.6844700 & 1.2300587\\\\\n",
       "\tethnicityNewar & 0.6742889 & 0.4042929 & 1.1438780\\\\\n",
       "\tethnicityDalit & 1.2736933 & 0.3526736 & 6.0169628\\\\\n",
       "\tethnicityMuslim & 1.0193061 & 0.5694834 & 1.9126911\\\\\n",
       "\tethnicityOthers & 0.9120665 & 0.5398656 & 1.5784198\\\\\n",
       "\tage & 0.9880401 & 0.7590431 & 1.2882772\\\\\n",
       "\tresidenceRural & 1.4164329 & 1.0956052 & 1.8319500\\\\\n",
       "\tpwdNo & 0.4256010 & 0.2673619 & 0.6782837\\\\\n",
       "\teducationSome primary or completed primary & 1.2740888 & 0.7715385 & 2.0923828\\\\\n",
       "\teducationSome primary or completed secondary & 1.2435640 & 0.7527078 & 2.0489543\\\\\n",
       "\teducationUndergraduate & 1.2191851 & 0.7615906 & 1.9379888\\\\\n",
       "\teducationPostgraduate and above & 1.6087292 & 0.9836666 & 2.6180682\\\\\n",
       "\tmaritalstatusbiNo & 1.2806093 & 0.9788757 & 1.6728918\\\\\n",
       "\\end{tabular}\n"
      ],
      "text/markdown": [
       "\n",
       "| <!--/--> | OR | 2.5 % | 97.5 % |\n",
       "|---|---|---|---|\n",
       "| (Intercept) | 1.5751805 | 0.8865178 | 2.8171656 |\n",
       "| ethnicityJanajati press | 0.8843081 | 0.5567304 | 1.4290251 |\n",
       "| ethnicityMadhesi | 0.9165256 | 0.6844700 | 1.2300587 |\n",
       "| ethnicityNewar | 0.6742889 | 0.4042929 | 1.1438780 |\n",
       "| ethnicityDalit | 1.2736933 | 0.3526736 | 6.0169628 |\n",
       "| ethnicityMuslim | 1.0193061 | 0.5694834 | 1.9126911 |\n",
       "| ethnicityOthers | 0.9120665 | 0.5398656 | 1.5784198 |\n",
       "| age | 0.9880401 | 0.7590431 | 1.2882772 |\n",
       "| residenceRural | 1.4164329 | 1.0956052 | 1.8319500 |\n",
       "| pwdNo | 0.4256010 | 0.2673619 | 0.6782837 |\n",
       "| educationSome primary or completed primary | 1.2740888 | 0.7715385 | 2.0923828 |\n",
       "| educationSome primary or completed secondary | 1.2435640 | 0.7527078 | 2.0489543 |\n",
       "| educationUndergraduate | 1.2191851 | 0.7615906 | 1.9379888 |\n",
       "| educationPostgraduate and above | 1.6087292 | 0.9836666 | 2.6180682 |\n",
       "| maritalstatusbiNo | 1.2806093 | 0.9788757 | 1.6728918 |\n",
       "\n"
      ],
      "text/plain": [
       "                                             OR        2.5 %     97.5 %   \n",
       "(Intercept)                                  1.5751805 0.8865178 2.8171656\n",
       "ethnicityJanajati press                      0.8843081 0.5567304 1.4290251\n",
       "ethnicityMadhesi                             0.9165256 0.6844700 1.2300587\n",
       "ethnicityNewar                               0.6742889 0.4042929 1.1438780\n",
       "ethnicityDalit                               1.2736933 0.3526736 6.0169628\n",
       "ethnicityMuslim                              1.0193061 0.5694834 1.9126911\n",
       "ethnicityOthers                              0.9120665 0.5398656 1.5784198\n",
       "age                                          0.9880401 0.7590431 1.2882772\n",
       "residenceRural                               1.4164329 1.0956052 1.8319500\n",
       "pwdNo                                        0.4256010 0.2673619 0.6782837\n",
       "educationSome primary or completed primary   1.2740888 0.7715385 2.0923828\n",
       "educationSome primary or completed secondary 1.2435640 0.7527078 2.0489543\n",
       "educationUndergraduate                       1.2191851 0.7615906 1.9379888\n",
       "educationPostgraduate and above              1.6087292 0.9836666 2.6180682\n",
       "maritalstatusbiNo                            1.2806093 0.9788757 1.6728918"
      ]
     },
     "metadata": {},
     "output_type": "display_data"
    }
   ],
   "source": [
    "# Coeffients as is is not very intuitive to interpret. Let us use odds ratio instead.\n",
    "exp(cbind(OR = coef(mylogit), confint(mylogit)))\n",
    "\n",
    "# We find that girls and women living in rural residence are 42% more likely to report SRHR servie disruption.\n",
    "# Similarly girls and women with no disability are 58% less likely report SRHR servie disruption.\n",
    "# OR girls and women with disability were 2.4 times more likely to report SRHR servie disruption."
   ]
  },
  {
   "cell_type": "code",
   "execution_count": 25,
   "id": "2c22e336",
   "metadata": {},
   "outputs": [
    {
     "data": {
      "text/html": [
       "41.8914133994861"
      ],
      "text/latex": [
       "41.8914133994861"
      ],
      "text/markdown": [
       "41.8914133994861"
      ],
      "text/plain": [
       "[1] 41.89141"
      ]
     },
     "metadata": {},
     "output_type": "display_data"
    }
   ],
   "source": [
    "# Let us test the fit of out model before we share the results widely\n",
    "with(mylogit, null.deviance - deviance)"
   ]
  },
  {
   "cell_type": "code",
   "execution_count": 26,
   "id": "817b1a56",
   "metadata": {},
   "outputs": [
    {
     "data": {
      "text/html": [
       "14"
      ],
      "text/latex": [
       "14"
      ],
      "text/markdown": [
       "14"
      ],
      "text/plain": [
       "[1] 14"
      ]
     },
     "metadata": {},
     "output_type": "display_data"
    }
   ],
   "source": [
    "with(mylogit, df.null - df.residual)"
   ]
  },
  {
   "cell_type": "code",
   "execution_count": 27,
   "id": "797b764d",
   "metadata": {},
   "outputs": [
    {
     "data": {
      "text/html": [
       "0.000128628703142535"
      ],
      "text/latex": [
       "0.000128628703142535"
      ],
      "text/markdown": [
       "0.000128628703142535"
      ],
      "text/plain": [
       "[1] 0.0001286287"
      ]
     },
     "metadata": {},
     "output_type": "display_data"
    }
   ],
   "source": [
    "with(mylogit, pchisq(null.deviance - deviance, df.null - df.residual, lower.tail = FALSE))"
   ]
  },
  {
   "cell_type": "code",
   "execution_count": null,
   "id": "1c73f37f",
   "metadata": {},
   "outputs": [],
   "source": [
    "# The model has a chi-square of 41.89 with 14 degrees of freedom and p value < 0.001\n",
    "# This tells us that our model as a whole fits significantly better than an empty model. \n",
    "# There are more robust ways of testing our model. But we wont get into that for this project."
   ]
  },
  {
   "cell_type": "code",
   "execution_count": null,
   "id": "1d667c44",
   "metadata": {},
   "outputs": [],
   "source": []
  },
  {
   "cell_type": "code",
   "execution_count": null,
   "id": "5723411b",
   "metadata": {},
   "outputs": [],
   "source": []
  },
  {
   "cell_type": "code",
   "execution_count": null,
   "id": "aa6d6408",
   "metadata": {},
   "outputs": [],
   "source": []
  }
 ],
 "metadata": {
  "kernelspec": {
   "display_name": "R",
   "language": "R",
   "name": "ir"
  },
  "language_info": {
   "codemirror_mode": "r",
   "file_extension": ".r",
   "mimetype": "text/x-r-source",
   "name": "R",
   "pygments_lexer": "r",
   "version": "3.6.1"
  }
 },
 "nbformat": 4,
 "nbformat_minor": 5
}
